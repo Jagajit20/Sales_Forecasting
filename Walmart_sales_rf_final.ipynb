{
 "cells": [
  {
   "cell_type": "code",
   "execution_count": 18,
   "metadata": {},
   "outputs": [],
   "source": [
    "#Walmart_sales_forecasting_Final"
   ]
  },
  {
   "cell_type": "code",
   "execution_count": 19,
   "metadata": {},
   "outputs": [],
   "source": [
    "#importing libraries\n",
    "import numpy as np\n",
    "import pandas as pd \n",
    "import matplotlib.pyplot as plt\n",
    "import seaborn as sns\n",
    "import math\n",
    "from sklearn.metrics import mean_absolute_error, mean_squared_error"
   ]
  },
  {
   "cell_type": "code",
   "execution_count": 20,
   "metadata": {},
   "outputs": [],
   "source": [
    "#importing datasets\n",
    "train = pd.read_csv(r'D:\\Internship\\walmart\\train.csv')\n",
    "test = pd.read_csv(r'D:\\Internship\\walmart\\test.csv')\n",
    "features = pd.read_csv(r'D:\\Internship\\walmart\\features.csv')\n",
    "stores = pd.read_csv(r'D:\\Internship\\walmart\\stores.csv')"
   ]
  },
  {
   "cell_type": "code",
   "execution_count": 21,
   "metadata": {},
   "outputs": [],
   "source": [
    "#Converting categorical values to numeric values \n",
    "mapping_store_type = {'Type': {'A':1, 'B':2, 'C':3}}\n",
    "stores.replace(mapping_store_type, inplace = True)"
   ]
  },
  {
   "cell_type": "code",
   "execution_count": 22,
   "metadata": {},
   "outputs": [],
   "source": [
    "#Creating dummy variables\n",
    "dummy_var = pd.get_dummies(stores.Type)\n",
    "stores = pd.concat([stores, dummy_var], axis=1)"
   ]
  },
  {
   "cell_type": "code",
   "execution_count": 23,
   "metadata": {},
   "outputs": [],
   "source": [
    "#Evaluating missing values\n",
    "from statistics import mean\n",
    "features['CPI'] = features['CPI'].transform(lambda x:x.fillna(x.mean()))\n",
    "features['Unemployment'] = features['Unemployment'].transform(lambda x:x.fillna(x.mean()))\n",
    "features = features.fillna(0)"
   ]
  },
  {
   "cell_type": "code",
   "execution_count": 24,
   "metadata": {},
   "outputs": [],
   "source": [
    "#Merging datasets\n",
    "train_stores = pd.merge(train, stores, how='left')\n",
    "train_final_data = pd.merge(train_stores, features, how='left')\n",
    "test_stores = pd.merge(test, stores, how='left')\n",
    "test_final_data = pd.merge(test_stores, features, how='left')"
   ]
  },
  {
   "cell_type": "code",
   "execution_count": 25,
   "metadata": {},
   "outputs": [],
   "source": [
    "#Changing IsHoliday categorical variable to numeric\n",
    "train_final_data['IsHoliday'] = [int(i) for i in train_final_data['IsHoliday']]\n",
    "test_final_data['IsHoliday'] = [int(i) for i in test_final_data['IsHoliday']]"
   ]
  },
  {
   "cell_type": "code",
   "execution_count": 26,
   "metadata": {},
   "outputs": [],
   "source": [
    "#sorting final datasets\n",
    "train_final_data = train_final_data.sort_values(by = 'Date')\n",
    "test_final_data = test_final_data.sort_values(by = 'Date')"
   ]
  },
  {
   "cell_type": "code",
   "execution_count": 27,
   "metadata": {},
   "outputs": [],
   "source": [
    "#dropping unwanted columns\n",
    "train_final_data = train_final_data.drop(columns='Type')\n",
    "test_final_data = test_final_data.drop(columns='Type')\n",
    "train_final_data = train_final_data[train_final_data['Weekly_Sales']>=0]"
   ]
  },
  {
   "cell_type": "code",
   "execution_count": 28,
   "metadata": {},
   "outputs": [],
   "source": [
    "# Adding extra features\n",
    "train_final_data.Date = pd.to_datetime(train_final_data.Date)\n",
    "test_final_data.Date = pd.to_datetime(test_final_data.Date)\n",
    "# Add column for year\n",
    "train_final_data[\"Year\"] = pd.to_datetime(train_final_data[\"Date\"], format=\"%Y-%m-%d\").dt.year\n",
    "test_final_data[\"Year\"] = pd.to_datetime(test_final_data[\"Date\"], format=\"%Y-%m-%d\").dt.year\n",
    "# Add column for day\n",
    "train_final_data[\"Day\"] = pd.to_datetime(train_final_data[\"Date\"], format=\"%Y-%m-%d\").dt.day\n",
    "test_final_data[\"Day\"] = pd.to_datetime(test_final_data[\"Date\"], format=\"%Y-%m-%d\").dt.day\n",
    "# Add column for week\n",
    "train_final_data[\"Week\"] = pd.to_datetime(train_final_data[\"Date\"], format=\"%Y-%m-%d\").dt.week\n",
    "test_final_data[\"Week\"] = pd.to_datetime(test_final_data[\"Date\"], format=\"%Y-%m-%d\").dt.week"
   ]
  },
  {
   "cell_type": "code",
   "execution_count": 29,
   "metadata": {},
   "outputs": [],
   "source": [
    "features['IsHoliday'] = [int(i) for i in features['IsHoliday']]"
   ]
  },
  {
   "cell_type": "code",
   "execution_count": 30,
   "metadata": {},
   "outputs": [],
   "source": [
    "#splitting data \n",
    "train_X = train_final_data.drop(['Weekly_Sales', 'Date', 'CPI', 'Unemployment', 'MarkDown5','MarkDown3','MarkDown4','MarkDown2', 3], axis = 1)\n",
    "test_X = test_final_data.drop(['Date', 'CPI', 'Unemployment', 'MarkDown5','MarkDown3','MarkDown4','MarkDown2', 3], axis = 1)\n",
    "train_y = train_final_data['Weekly_Sales']\n",
    "\n",
    "from sklearn.model_selection import train_test_split\n",
    "X_train, X_test, y_train, y_test = train_test_split(train_X, train_y, test_size = 0.2, random_state = 50)"
   ]
  },
  {
   "cell_type": "code",
   "execution_count": 31,
   "metadata": {},
   "outputs": [],
   "source": [
    "from sklearn.ensemble import RandomForestRegressor\n",
    "rf_reg = RandomForestRegressor(n_estimators = 10, random_state = 10)\n",
    "rf_reg.fit(X_train, y_train)\n",
    "y_pred = rf_reg.predict(X_test)"
   ]
  },
  {
   "cell_type": "code",
   "execution_count": 32,
   "metadata": {},
   "outputs": [
    {
     "data": {
      "image/png": "[encoded data removed]",
      "text/plain": [
       "<Figure size 432x288 with 1 Axes>"
      ]
     },
     "metadata": {
      "needs_background": "light"
     },
     "output_type": "display_data"
    }
   ],
   "source": [
    "plt.figure()\n",
    "plt.plot(y_test, y_test)\n",
    "plt.scatter(y_test, y_pred, s=10, c=\"red\")\n",
    "plt.title(\"Random Forest Regressor\")\n",
    "plt.xlabel(\"Actual values\") #blue line\n",
    "plt.ylabel(\"Predicted values\") #red dots\n",
    "plt.show()"
   ]
  },
  {
   "cell_type": "code",
   "execution_count": 33,
   "metadata": {},
   "outputs": [
    {
     "name": "stdout",
     "output_type": "stream",
     "text": [
      "Mean Absolute error: 1392.6831936424092\n",
      "Mean Squared error: 10635606.667038336\n",
      "Root Mean Squared error: 3261.227785211934\n",
      "Accuracy: 97.87284225706739\n"
     ]
    }
   ],
   "source": [
    "print('Mean Absolute error:', mean_absolute_error(y_test, y_pred))\n",
    "print('Mean Squared error:', mean_squared_error(y_test, y_pred))\n",
    "print('Root Mean Squared error:', math.sqrt(mean_squared_error(y_test, y_pred)))\n",
    "print('Accuracy:', rf_reg.score(X_test, y_test)*100)"
   ]
  },
  {
   "cell_type": "code",
   "execution_count": 34,
   "metadata": {},
   "outputs": [],
   "source": [
    "# Using Random Forest(Low RMSE and high accuracy) to predict values for unknown dataset(test dataset)\n",
    "predicted_values_of_test_set = rf_reg.predict(test_X)"
   ]
  },
  {
   "cell_type": "code",
   "execution_count": null,
   "metadata": {},
   "outputs": [],
   "source": [
    "# Saving it in a csv file\n",
    "temp_frame = pd.DataFrame(predicted_values_of_test_set)\n",
    "temp_frame.to_csv('Predicted_values_using_RF.csv')"
   ]
  }
 ],
 "metadata": {
  "kernelspec": {
   "display_name": "Python 3",
   "language": "python",
   "name": "python3"
  },
  "language_info": {
   "codemirror_mode": {
    "name": "ipython",
    "version": 3
   },
   "file_extension": ".py",
   "mimetype": "text/x-python",
   "name": "python",
   "nbconvert_exporter": "python",
   "pygments_lexer": "ipython3",
   "version": "3.7.4"
  }
 },
 "nbformat": 4,
 "nbformat_minor": 2
}
